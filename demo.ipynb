{
 "cells": [
  {
   "cell_type": "markdown",
   "metadata": {},
   "source": [
    "## This is a demo of Deepseek-V2 Latent Cache version"
   ]
  },
  {
   "cell_type": "code",
   "execution_count": 7,
   "metadata": {},
   "outputs": [],
   "source": [
    "from model.modeling_deepseek import DeepseekV2Config, DeepseekV2ForCausalLM\n",
    "import torch"
   ]
  },
  {
   "cell_type": "code",
   "execution_count": 14,
   "metadata": {},
   "outputs": [],
   "source": [
    "config = DeepseekV2Config(\n",
    "    hidden_size=512,\n",
    "    intermediate_size=2048,\n",
    "    num_hidden_layers=3,\n",
    "    num_attention_heads=8,\n",
    "    num_key_value_heads=8,\n",
    "    moe_intermediate_size=64,\n",
    "    q_lora_rank=64,\n",
    "    kv_lora_rank=64,\n",
    "    qk_nope_head_dim=64,\n",
    "    qk_rope_head_dim=16,\n",
    ")\n",
    "model = DeepseekV2ForCausalLM(config).to(torch.float16).cuda(0).eval().requires_grad_(False)"
   ]
  },
  {
   "cell_type": "code",
   "execution_count": 30,
   "metadata": {},
   "outputs": [
    {
     "name": "stdout",
     "output_type": "stream",
     "text": [
      "latent c_kv shape: torch.Size([1, 4, 64]) k_pe shape: torch.Size([1, 1, 4, 16])\n",
      "latent c_kv shape: torch.Size([1, 7, 64]) k_pe shape: torch.Size([1, 1, 7, 16])\n"
     ]
    }
   ],
   "source": [
    "x1 = torch.tensor([[1, 2, 3, 4]]).cuda(0)\n",
    "output = model(x1)\n",
    "print('latent c_kv shape:', output.past_key_values[0][0].shape, 'k_pe shape:', output.past_key_values[0][1].shape)\n",
    "x2 = torch.tensor([[5, 6, 7]]).cuda(0)\n",
    "output = model(x2, past_key_values=output.past_key_values)\n",
    "print('latent c_kv shape:', output.past_key_values[0][0].shape, 'k_pe shape:', output.past_key_values[0][1].shape)"
   ]
  }
 ],
 "metadata": {
  "kernelspec": {
   "display_name": "workspace",
   "language": "python",
   "name": "python3"
  },
  "language_info": {
   "codemirror_mode": {
    "name": "ipython",
    "version": 3
   },
   "file_extension": ".py",
   "mimetype": "text/x-python",
   "name": "python",
   "nbconvert_exporter": "python",
   "pygments_lexer": "ipython3",
   "version": "3.11.7"
  }
 },
 "nbformat": 4,
 "nbformat_minor": 2
}
